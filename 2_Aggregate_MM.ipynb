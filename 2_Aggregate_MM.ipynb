{
  "cells": [
    {
      "cell_type": "markdown",
      "metadata": {
        "id": "Olqo57ZfToj-"
      },
      "source": [
        "Import libraries"
      ]
    },
    {
      "cell_type": "code",
      "execution_count": 1,
      "metadata": {
        "colab": {
          "base_uri": "https://localhost:8080/"
        },
        "id": "Qku9XjVg4Ue9",
        "outputId": "f43f7400-0399-432e-b752-ecc1e4db5269"
      },
      "outputs": [
        {
          "output_type": "stream",
          "name": "stdout",
          "text": [
            "[nltk_data] Downloading package punkt to /root/nltk_data...\n",
            "[nltk_data]   Unzipping tokenizers/punkt.zip.\n",
            "[nltk_data] Downloading package averaged_perceptron_tagger to\n",
            "[nltk_data]     /root/nltk_data...\n",
            "[nltk_data]   Unzipping taggers/averaged_perceptron_tagger.zip.\n",
            "[nltk_data] Downloading package tagsets to /root/nltk_data...\n",
            "[nltk_data]   Unzipping help/tagsets.zip.\n"
          ]
        }
      ],
      "source": [
        "# libraries\n",
        "import sys\n",
        "import random\n",
        "import numpy as np\n",
        "import pandas as pd\n",
        "import matplotlib.pyplot as plt\n",
        "import math\n",
        "#!pip install hmmlearn\n",
        "#from hmmlearn import hmm\n",
        "from nltk.tokenize import word_tokenize\n",
        "import nltk\n",
        "nltk.download('punkt')\n",
        "nltk.download('averaged_perceptron_tagger')\n",
        "nltk.download('tagsets')\n",
        "from tqdm import tqdm"
      ]
    },
    {
      "cell_type": "code",
      "execution_count": 2,
      "metadata": {
        "id": "D-XB2iVn5gpm"
      },
      "outputs": [],
      "source": [
        "# load text files, merge together and convert to lowercase\n",
        "\n",
        "filename = \"hp1.txt\"\n",
        "raw_text = open(filename, 'r', encoding= 'unicode_escape').read()\n",
        "raw_text = raw_text.lower()"
      ]
    },
    {
      "cell_type": "code",
      "execution_count": 3,
      "metadata": {
        "colab": {
          "base_uri": "https://localhost:8080/"
        },
        "id": "GS2oILC25yZo",
        "outputId": "beea2819-98b7-48b3-c540-c03a9a06c060"
      },
      "outputs": [
        {
          "output_type": "execute_result",
          "data": {
            "text/plain": [
              "98823"
            ]
          },
          "metadata": {},
          "execution_count": 3
        }
      ],
      "source": [
        "tokenised_text_ = nltk.word_tokenize(raw_text)\n",
        "len(tokenised_text_)"
      ]
    },
    {
      "cell_type": "code",
      "execution_count": 4,
      "metadata": {
        "colab": {
          "base_uri": "https://localhost:8080/"
        },
        "id": "yAC5h-AxTzAi",
        "outputId": "546c8d65-031c-4abb-e554-31feddba4fc7"
      },
      "outputs": [
        {
          "output_type": "execute_result",
          "data": {
            "text/plain": [
              "98823"
            ]
          },
          "metadata": {},
          "execution_count": 4
        }
      ],
      "source": [
        "# tokenise text, assign POS tag to each word\n",
        "tagged_text_ = nltk.pos_tag(nltk.word_tokenize(raw_text))\n",
        "len(tagged_text_)"
      ]
    },
    {
      "cell_type": "code",
      "execution_count": 5,
      "metadata": {
        "id": "93RaT-TGTn_T"
      },
      "outputs": [],
      "source": [
        "# all possible tags from nltk POS tagger (mapped by me)\n",
        "nltk_tagset = [('$','dollar'),(\"''\",'quote'),('(','open par'),(')','close par'),\n",
        "               (',','comma'),('--','dash'),('.','stop mark'),(':','colon'),(';','semi-colon'),\n",
        "               ('CC','co conj'),('CD','numeral'),('DT','det'),('EX','there'),\n",
        "               ('FW','foreign'),('IN','sub conj'),('JJ','adj'),('JJR','adj comp'),\n",
        "               ('JJS','adj sup'),('LS','list item'),('MD','modal'),('NN','noun'),\n",
        "               ('NNP','prop noun'),('NNPS', 'prop noun pl'),('NNS','noun pl'),\n",
        "               ('PDT','pre-det'),('POS','genitive'),('PRP','pers pron'),\n",
        "               ('PRP$','poss pron'),('RB','adv'),('RBR','adv comp'),('RBS','adv sup'),\n",
        "               ('RP','particle'),('SYM','symbol'),('TO','to'),('UH','interj'),\n",
        "               ('VB','verb base'),('VBD','verb past'),('VBG','gerund'),('VBN','past part'),\n",
        "               ('VBP','verb pres'),('VBZ','verb pres 3rd'),('WDT','WH-det'),\n",
        "               ('WP','WH-pron'),('WP$','WH poss'),('WRB','WH-adv'),('``','open quote')]"
      ]
    },
    {
      "cell_type": "code",
      "execution_count": 6,
      "metadata": {
        "id": "yYNWnXKOFMZH"
      },
      "outputs": [],
      "source": [
        "# word-level tags mapped to phrase-level tags (NP, ADJP, ADVP, PP, VP, PUNCT)\n",
        "phrase_tagset = [('$','PUNCT'),(\"''\",'PUNCT'),('(','PUNCT'),(')','PUNCT'),\n",
        "               (',','PUNCT'),('--','PUNCT'),('.','PUNCT'),(':','PUNCT'),(';','PUNCT'),\n",
        "               ('CC','PUNCT'),('CD','NP'),('DT','NP'),('EX','VP'),\n",
        "               ('FW','PUNCT'),('IN','PP'),('JJ','ADJP'),('JJR','ADJP'),\n",
        "               ('JJS','ADJP'),('LS','PUNCT'),('MD','VP'),('NN','NP'),\n",
        "               ('NNP','NP'),('NNPS', 'NP'),('NNS','NP'),\n",
        "               ('PDT','NP'),('POS','ADJP'),('PRP','NP'),\n",
        "               ('PRP$','NP'),('RB','ADVP'),('RBR','ADVP'),('RBS','ADVP'),\n",
        "               ('RP','NP'),('SYM','PUNCT'),('TO','PP'),('UH','PUNCT'),\n",
        "               ('VB','VP'),('VBD','VP'),('VBG','VP'),('VBN','VP'),\n",
        "               ('VBP','VP'),('VBZ','VP'),('WDT','NP'),\n",
        "               ('WP','NP'),('WP$','ADJP'),('WRB','ADVP'),('``','PUNCT')]"
      ]
    },
    {
      "cell_type": "code",
      "execution_count": 7,
      "metadata": {
        "id": "6VLMbLw2G4HF"
      },
      "outputs": [],
      "source": [
        "# get text tagged with phrase tags\n",
        "\n",
        "phrase_text_ = []\n",
        "temp_tagset = np.array(phrase_tagset).reshape(len(phrase_tagset),2)\n",
        "for t in range(len(tagged_text_)):\n",
        "  ix = np.where(temp_tagset[:,0] == tagged_text_[t][1])[0][0]\n",
        "  phrase_text_.append((tokenised_text_[t],temp_tagset[ix,1]))"
      ]
    },
    {
      "cell_type": "code",
      "execution_count": 8,
      "metadata": {
        "id": "6ly14Z8Fu-dA"
      },
      "outputs": [],
      "source": [
        "# log likelihood and perplexity for model evaluation\n",
        "\n",
        "def logLikelihood(N,P):\n",
        "  return np.sum(np.multiply(N,np.log(P)))\n",
        "\n",
        "def perplexity(p,n):\n",
        "  return np.exp(-p/n)"
      ]
    },
    {
      "cell_type": "markdown",
      "metadata": {
        "id": "j22D3gyRTh7H"
      },
      "source": [
        "Extract samples of text"
      ]
    },
    {
      "cell_type": "code",
      "execution_count": 9,
      "metadata": {
        "id": "cmH5BInE6GQ3"
      },
      "outputs": [],
      "source": [
        "# for each sample size, get 5 short samples of text\n",
        "sizes = [100,200,300,500]\n",
        "n_samples = 5\n",
        "groups = []\n",
        "\n",
        "for size in sizes:\n",
        "  subsamples = []\n",
        "  for s in range(n_samples):\n",
        "    start = np.random.randint(0,len(phrase_text_)-size)\n",
        "    ss = phrase_text_[start:start+size]\n",
        "    subsamples.append(ss)\n",
        "  groups.append(subsamples)"
      ]
    },
    {
      "cell_type": "code",
      "execution_count": 10,
      "metadata": {
        "colab": {
          "base_uri": "https://localhost:8080/"
        },
        "id": "a2T-EZ3cV8PY",
        "outputId": "c30afdc7-5fa9-4e05-caa1-f4bd36d61e5f"
      },
      "outputs": [
        {
          "output_type": "stream",
          "name": "stderr",
          "text": [
            "100%|██████████| 4/4 [00:01<00:00,  3.53it/s]\n"
          ]
        }
      ],
      "source": [
        "# for each subsample (n_sizes*n_samples)\n",
        "# for each distinct word, save positions where it occurs in the original text\n",
        "groups_word_pos = []\n",
        "groups_count_bigrams = []\n",
        "groups_bigrams = []\n",
        "\n",
        "for g in tqdm(range(len(groups))): # for each size\n",
        "  \n",
        "  pos_size = []\n",
        "  n_size = []\n",
        "  bigr_size = []\n",
        "  \n",
        "  for s in range(n_samples): # for all samples of that size\n",
        "    \n",
        "    # format sample\n",
        "    subsample_ = groups[g][s] # select\n",
        "    temp = np.array(subsample_).reshape(len(subsample_),2)\n",
        "    subsample = temp[:,0] # sampled sequence of words\n",
        "    subsample_cl = temp[:,1] # sampled sequence of classes\n",
        "    uniques = list(np.unique(subsample)) # list of unique words\n",
        "    classes = list(np.unique(subsample_cl)) # list of unique classes\n",
        "\n",
        "    # word positions\n",
        "    word_pos = []\n",
        "    for match in uniques:\n",
        "      row = []\n",
        "      for w_ix, w in enumerate(subsample):\n",
        "        if w == match: row.append(w_ix)\n",
        "      word_pos.append(row)\n",
        "    pos_size.append(word_pos)\n",
        "    \n",
        "    # count bigrams\n",
        "    n = []\n",
        "    for w_ix, w_to in enumerate(uniques): # for each distinct word\n",
        "      curr_list = word_pos[w_ix]\n",
        "      row = [] # make new row\n",
        "      total_ct = 0.0 # init row total\n",
        "      for w_from in uniques: # check all the words\n",
        "        ct = 0.0 # init in-row word count\n",
        "        for i in range(len(curr_list)): # find loc of current word and look at next word\n",
        "          if curr_list[i] > 1 and subsample[curr_list[i]-1] == w_from: ct+=1.0\n",
        "            # don't look at the first index in the global list; if next word is same as curr word, add 1\n",
        "        row.append(ct) # append current count to row count\n",
        "      n.append(np.array(row)) # append row count to current row\n",
        "    n_size.append(n)\n",
        "\n",
        "    # enumerate bigrams\n",
        "    bigrams = []\n",
        "    for i in range(len(subsample)-1):\n",
        "      bigrams.append([subsample[i],subsample[i+1]])\n",
        "    bigr_size.append(bigrams)\n",
        "  \n",
        "  # append results of the current size to global list\n",
        "  groups_word_pos.append(pos_size)\n",
        "  groups_count_bigrams.append(n_size)\n",
        "  groups_bigrams.append(bigr_size)"
      ]
    },
    {
      "cell_type": "markdown",
      "metadata": {
        "id": "1rGuTfOpTZsB"
      },
      "source": [
        "Phrase-based initialisation of P1 and P2 matrices"
      ]
    },
    {
      "cell_type": "code",
      "execution_count": 11,
      "metadata": {
        "colab": {
          "base_uri": "https://localhost:8080/"
        },
        "id": "2KV0qIPeM1by",
        "outputId": "1c761970-dd31-4008-879a-03e500f9d70f"
      },
      "outputs": [
        {
          "output_type": "stream",
          "name": "stderr",
          "text": [
            "100%|██████████| 4/4 [00:02<00:00,  1.48it/s]\n"
          ]
        }
      ],
      "source": [
        "# initialise p1 and p2 with 6 phrase-level classes\n",
        "p1_g, p2_g, p_g = [], [], []\n",
        "logs_g, perplexities_g = [], []\n",
        "\n",
        "for g in tqdm(range(len(groups))): # for each size\n",
        "  \n",
        "  p1s = [] # p(w|c)\n",
        "  p2s = [] # p(c|w)\n",
        "  ps = [] # p(w2|w1)\n",
        "  lls = [] # log-likelihoods\n",
        "  pps = [] # perplexities\n",
        "  \n",
        "  for s in range(n_samples): # for all samples of that size\n",
        "    \n",
        "    # format sample\n",
        "    subsample_ = groups[g][s] # select sample\n",
        "    word_pos = groups_word_pos[g][s] # select associated word_pos\n",
        "    n = groups_count_bigrams[g][s] # select associated bigram counts\n",
        "\n",
        "    temp = np.array(subsample_).reshape(len(subsample_),2)\n",
        "    subsample = temp[:,0] # sampled sequence of words\n",
        "    subsample_cl = temp[:,1] # sampled sequence of classes\n",
        "    uniques = list(np.unique(subsample)) # list of unique words\n",
        "    classes = ['ADJP', 'ADVP', 'NP', 'PP', 'PUNCT', 'VP']\n",
        "    #list(np.unique(subsample_cl)) # list of unique classes\n",
        "\n",
        "    # compute p2\n",
        "    n_classes = len(classes) # ['ADJP', 'ADVP', 'NP', 'PP', 'PUNCT', 'VP']\n",
        "    \n",
        "    p2 = np.zeros((n_classes,len(uniques)))\n",
        "\n",
        "    for iw, _ in enumerate(uniques): # for each distinct word\n",
        "      curr_poss = word_pos[iw] # check positions of this word in the sampled text\n",
        "      for pos in curr_poss: # each time I see this word\n",
        "        tag = subsample_cl[pos] # take corresponding tag\n",
        "        for ic, _ in enumerate(classes): # check to which class this tag belongs\n",
        "          if classes[ic] == tag:\n",
        "            #print(iw,ic)\n",
        "            p2[ic,iw] += 1 # add one to corresponding class\n",
        "\n",
        "    # normalise to get frequency counts\n",
        "    sum_of_rows = p2.sum(axis=1)\n",
        "    p2 = p2 / sum_of_rows[:, np.newaxis] # p(c|w)\n",
        "\n",
        "    # compute p1\n",
        "    p1 = np.zeros((len(uniques),n_classes))\n",
        "\n",
        "    for iw, _ in enumerate(uniques): # for each distinct word\n",
        "      curr_poss = word_pos[iw] # check positions of this word in the sampled text\n",
        "      for pos in curr_poss: # each time I see this word\n",
        "        tag = subsample_cl[pos-1] # take tag of previous word\n",
        "        ic = classes.index(tag) # take corresponding index\n",
        "        p1[iw,ic] += 1 # add one to word-to-class pair\n",
        "\n",
        "    # normalise to get frequency counts\n",
        "    sum_of_rows = p2.sum(axis=1)\n",
        "    p2 = p2 / sum_of_rows[:, np.newaxis] # p(w|c)    \n",
        "\n",
        "    # append\n",
        "    p1s.append(p1)\n",
        "    p2s.append(p2)\n",
        "\n",
        "    # compute p\n",
        "    p = np.zeros((len(uniques),len(uniques)))\n",
        "    for w1 in range(len(uniques)):\n",
        "      for w2 in range(len(uniques)):\n",
        "        sum = 0.0\n",
        "        for c in range(n_classes):\n",
        "          sum += p1[w2,c]*p2[c,w1]\n",
        "        p[w2,w1] = sum\n",
        "\n",
        "    # assign pairs with zero probability 1/n_distinct_bigrams probability to avoid taking the log of 0 values\n",
        "    Nb = np.count_nonzero(np.unique(bigrams))\n",
        "    p[p == 0.0] = 1/Nb\n",
        "\n",
        "    # append\n",
        "    ps.append(p)\n",
        "\n",
        "    # compute initial indices\n",
        "    ll = logLikelihood(n,p)\n",
        "    pp = perplexity(ll,Nb)\n",
        "    lls.append(ll)\n",
        "    pps.append(pp)\n",
        "  \n",
        "  # append to global list\n",
        "  p1_g.append(p1s)\n",
        "  p2_g.append(p2s)\n",
        "  p_g.append(ps)\n",
        "  logs_g.append(lls)\n",
        "  perplexities_g.append(pps)"
      ]
    },
    {
      "cell_type": "code",
      "execution_count": 45,
      "metadata": {
        "colab": {
          "base_uri": "https://localhost:8080/",
          "height": 279
        },
        "id": "M3vbITBspw67",
        "outputId": "84733adc-6276-42f7-9300-9a7e68a0cadb"
      },
      "outputs": [
        {
          "output_type": "display_data",
          "data": {
            "image/png": "[encoded data removed]",
            "text/plain": [
              "<Figure size 720x288 with 2 Axes>"
            ]
          },
          "metadata": {
            "needs_background": "light"
          }
        }
      ],
      "source": [
        "# initial log-likelihoods and perplexities\n",
        "avg_logs = []\n",
        "avg_perp = []\n",
        "for g in range(len(groups)):\n",
        "  avg_logs.append(np.mean(logs_g[g]))\n",
        "  avg_perp.append(np.mean(perplexities_g[g]))\n",
        "\n",
        "#print(avg_logs)\n",
        "#print(avg_perp)\n",
        "\n",
        "fig = plt.figure(figsize=(10,4))\n",
        "plt.subplot(1,2,1)\n",
        "plt.plot(np.arange(len(groups)), avg_logs, label='log-likelihood')\n",
        "plt.xticks(np.arange(len(groups)), labels=['100','200','300','500'])\n",
        "plt.xlabel('Size')\n",
        "plt.grid()\n",
        "plt.legend()\n",
        "plt.subplot(1,2,2)\n",
        "plt.plot(np.arange(len(groups)), avg_perp, label='perplexity')\n",
        "plt.xticks(np.arange(len(groups)), labels=['100','200','300','500'])\n",
        "plt.xlabel('Size')\n",
        "plt.legend()\n",
        "plt.grid()\n",
        "plt.show()"
      ]
    },
    {
      "cell_type": "code",
      "execution_count": 13,
      "metadata": {
        "colab": {
          "base_uri": "https://localhost:8080/"
        },
        "id": "GDxjwdSIGKSU",
        "outputId": "313ee7fa-4ec7-41ed-e7c7-8c31b7e9318b"
      },
      "outputs": [
        {
          "output_type": "stream",
          "name": "stdout",
          "text": [
            "Enter groups of size 100\n",
            "Start iterations for sample 0\n"
          ]
        },
        {
          "output_type": "stream",
          "name": "stderr",
          "text": [
            "100%|██████████| 5/5 [00:01<00:00,  4.35it/s]\n"
          ]
        },
        {
          "output_type": "stream",
          "name": "stdout",
          "text": [
            "Start iterations for sample 1\n"
          ]
        },
        {
          "output_type": "stream",
          "name": "stderr",
          "text": [
            "100%|██████████| 5/5 [00:01<00:00,  4.89it/s]\n"
          ]
        },
        {
          "output_type": "stream",
          "name": "stdout",
          "text": [
            "Start iterations for sample 2\n"
          ]
        },
        {
          "output_type": "stream",
          "name": "stderr",
          "text": [
            "100%|██████████| 5/5 [00:01<00:00,  3.28it/s]\n"
          ]
        },
        {
          "output_type": "stream",
          "name": "stdout",
          "text": [
            "Start iterations for sample 3\n"
          ]
        },
        {
          "output_type": "stream",
          "name": "stderr",
          "text": [
            "100%|██████████| 5/5 [00:01<00:00,  3.57it/s]\n"
          ]
        },
        {
          "output_type": "stream",
          "name": "stdout",
          "text": [
            "Start iterations for sample 4\n"
          ]
        },
        {
          "output_type": "stream",
          "name": "stderr",
          "text": [
            "100%|██████████| 5/5 [00:01<00:00,  3.12it/s]\n"
          ]
        },
        {
          "output_type": "stream",
          "name": "stdout",
          "text": [
            "\n",
            "Enter groups of size 200\n",
            "Start iterations for sample 0\n"
          ]
        },
        {
          "output_type": "stream",
          "name": "stderr",
          "text": [
            "100%|██████████| 5/5 [00:08<00:00,  1.71s/it]\n"
          ]
        },
        {
          "output_type": "stream",
          "name": "stdout",
          "text": [
            "Start iterations for sample 1\n"
          ]
        },
        {
          "output_type": "stream",
          "name": "stderr",
          "text": [
            "100%|██████████| 5/5 [00:07<00:00,  1.54s/it]\n"
          ]
        },
        {
          "output_type": "stream",
          "name": "stdout",
          "text": [
            "Start iterations for sample 2\n"
          ]
        },
        {
          "output_type": "stream",
          "name": "stderr",
          "text": [
            "100%|██████████| 5/5 [00:07<00:00,  1.44s/it]\n"
          ]
        },
        {
          "output_type": "stream",
          "name": "stdout",
          "text": [
            "Start iterations for sample 3\n"
          ]
        },
        {
          "output_type": "stream",
          "name": "stderr",
          "text": [
            "100%|██████████| 5/5 [00:10<00:00,  2.02s/it]\n"
          ]
        },
        {
          "output_type": "stream",
          "name": "stdout",
          "text": [
            "Start iterations for sample 4\n"
          ]
        },
        {
          "output_type": "stream",
          "name": "stderr",
          "text": [
            "100%|██████████| 5/5 [00:09<00:00,  1.95s/it]\n"
          ]
        },
        {
          "output_type": "stream",
          "name": "stdout",
          "text": [
            "\n",
            "Enter groups of size 300\n",
            "Start iterations for sample 0\n"
          ]
        },
        {
          "output_type": "stream",
          "name": "stderr",
          "text": [
            "100%|██████████| 5/5 [00:19<00:00,  3.87s/it]\n"
          ]
        },
        {
          "output_type": "stream",
          "name": "stdout",
          "text": [
            "Start iterations for sample 1\n"
          ]
        },
        {
          "output_type": "stream",
          "name": "stderr",
          "text": [
            "100%|██████████| 5/5 [00:23<00:00,  4.68s/it]\n"
          ]
        },
        {
          "output_type": "stream",
          "name": "stdout",
          "text": [
            "Start iterations for sample 2\n"
          ]
        },
        {
          "output_type": "stream",
          "name": "stderr",
          "text": [
            "100%|██████████| 5/5 [00:26<00:00,  5.25s/it]\n"
          ]
        },
        {
          "output_type": "stream",
          "name": "stdout",
          "text": [
            "Start iterations for sample 3\n"
          ]
        },
        {
          "output_type": "stream",
          "name": "stderr",
          "text": [
            "100%|██████████| 5/5 [00:22<00:00,  4.49s/it]\n"
          ]
        },
        {
          "output_type": "stream",
          "name": "stdout",
          "text": [
            "Start iterations for sample 4\n"
          ]
        },
        {
          "output_type": "stream",
          "name": "stderr",
          "text": [
            "100%|██████████| 5/5 [00:17<00:00,  3.54s/it]\n"
          ]
        },
        {
          "output_type": "stream",
          "name": "stdout",
          "text": [
            "\n",
            "Enter groups of size 500\n",
            "Start iterations for sample 0\n"
          ]
        },
        {
          "output_type": "stream",
          "name": "stderr",
          "text": [
            "100%|██████████| 5/5 [01:20<00:00, 16.20s/it]\n"
          ]
        },
        {
          "output_type": "stream",
          "name": "stdout",
          "text": [
            "Start iterations for sample 1\n"
          ]
        },
        {
          "output_type": "stream",
          "name": "stderr",
          "text": [
            "100%|██████████| 5/5 [01:09<00:00, 13.88s/it]\n"
          ]
        },
        {
          "output_type": "stream",
          "name": "stdout",
          "text": [
            "Start iterations for sample 2\n"
          ]
        },
        {
          "output_type": "stream",
          "name": "stderr",
          "text": [
            "100%|██████████| 5/5 [00:56<00:00, 11.35s/it]\n"
          ]
        },
        {
          "output_type": "stream",
          "name": "stdout",
          "text": [
            "Start iterations for sample 3\n"
          ]
        },
        {
          "output_type": "stream",
          "name": "stderr",
          "text": [
            "100%|██████████| 5/5 [01:04<00:00, 12.94s/it]\n"
          ]
        },
        {
          "output_type": "stream",
          "name": "stdout",
          "text": [
            "Start iterations for sample 4\n"
          ]
        },
        {
          "output_type": "stream",
          "name": "stderr",
          "text": [
            "100%|██████████| 5/5 [01:25<00:00, 17.18s/it]"
          ]
        },
        {
          "output_type": "stream",
          "name": "stdout",
          "text": [
            "\n"
          ]
        },
        {
          "output_type": "stream",
          "name": "stderr",
          "text": [
            "\n"
          ]
        }
      ],
      "source": [
        "# EM algorithm\n",
        "\n",
        "# for each sample text, save result of 5 EM iterations for loglikelihood, perplexity and p1, p2 matrices\n",
        "group_logls = []\n",
        "group_perplexities = []\n",
        "group_ps = []\n",
        "n_iters = 5\n",
        "\n",
        "for g in range(len(groups)):\n",
        "  \n",
        "  print('Enter groups of size {}'.format(sizes[g]))\n",
        "\n",
        "  logs_size = []\n",
        "  perpl_size = []\n",
        "  ps_size = []\n",
        "\n",
        "  for s in range(n_samples):\n",
        "\n",
        "    print('Start iterations for sample {}'.format(s))\n",
        "\n",
        "    logLs = []\n",
        "    perpls = []\n",
        "    p12 = []\n",
        "\n",
        "    # format sample\n",
        "    subsample_ = groups[g][s] # select sample text\n",
        "    word_pos = groups_word_pos[g][s] # select associated word_pos\n",
        "    n = groups_count_bigrams[g][s] # select associated bigram counts\n",
        "    bigrams = groups_bigrams[g][s] # select associated bigram list\n",
        "    p1 = p1_g[g][s] # select associated initial p1\n",
        "    p2 = p2_g[g][s] # select associated initial p2\n",
        "\n",
        "    temp = np.array(subsample_).reshape(len(subsample_),2)\n",
        "    subsample = temp[:,0] # sampled sequence of words\n",
        "    subsample_cl = temp[:,1] # sampled sequence of classes\n",
        "    uniques = list(np.unique(subsample)) # list of unique words\n",
        "    classes = ['ADJP', 'ADVP', 'NP', 'PP', 'PUNCT', 'VP'] \n",
        "    # list(np.unique(subsample_cl)) # list of unique classes\n",
        "\n",
        "    pE = np.zeros((n_classes,len(bigrams)))\n",
        "\n",
        "    # iterate EM algorithm for n_iters times\n",
        "    for iter in tqdm(range(n_iters)):\n",
        "\n",
        "      # perform E step (eq.2)\n",
        "      for ib,b in enumerate(bigrams): # get this bigram from sampled text    \n",
        "          word1 = b[0] # word w1\n",
        "          word2 = b[1] # word w2\n",
        "          w1 = uniques.index(word1) # index of w1 in uniques\n",
        "          w2 = uniques.index(word2) # index of w2 in uniques\n",
        "\n",
        "          # denominator, same for all classes with this bigram\n",
        "          den = 0.0\n",
        "          for ic_,_ in enumerate(classes): # loop over classes\n",
        "            den += p1[w2,ic_]*p2[ic_,w1] # add to den\n",
        "\n",
        "          # numerator, one for each class with this bigram\n",
        "          for ic,_ in enumerate(classes): # get this class\n",
        "            num = p1[w2,ic]*p2[ic,w1]\n",
        "            if num > 0: # avoid dividing by 0. if num > 0, then den > 0\n",
        "              pE[ic,ib] = num/den\n",
        "            else: pE[ic,ib] = 0.0\n",
        "          \n",
        "      # perform M step\n",
        "\n",
        "      # update p1 (eq.4)\n",
        "      for ic,_ in enumerate(classes): # loop over classes\n",
        "\n",
        "        # denominator, same for all words in this class\n",
        "        den = 0.0 \n",
        "        for i1,w1 in enumerate(uniques): # get first word\n",
        "          for i2,w2 in enumerate(uniques): # get second word\n",
        "            if [w1,w2] in bigrams: # if it is a valid bigram\n",
        "              b = bigrams.index([w1,w2]) # take index of corresponding bigram\n",
        "              den += n[i2][i1]*pE[ic,b] # add to denominator\n",
        "\n",
        "        # numerator, one for each word in this class\n",
        "        for i2,w2 in enumerate(uniques): # get this word\n",
        "          num = 0.0\n",
        "          for i1,w1 in enumerate(uniques): # get second word\n",
        "            if [w1,w2] in bigrams: # if it is a valid bigram\n",
        "              b = bigrams.index([w1,w2]) # take index of corresponding bigram\n",
        "              num += n[i2][i1]*pE[ic,b] # add to numerator\n",
        "          # compute probability\n",
        "          if num > 0:\n",
        "            p1[i2,ic] = num/den\n",
        "          else: p1[i2,ic] = 0.0\n",
        "\n",
        "      # update p2 (eq.3)\n",
        "      for i1,w1 in enumerate(uniques): # get this word\n",
        "      \n",
        "        # denominator, same for all classes with this word\n",
        "        den = 0.0\n",
        "        for i2,w2 in enumerate(uniques): # get second word\n",
        "          if [w1,w2] in bigrams: # if it is a valid bigram\n",
        "            b = bigrams.index([w1,w2]) # index of corresponding bigram\n",
        "            for ic_, _ in enumerate(classes): # for each class\n",
        "              den += n[i2][i1]*pE[ic_,b] # add to den\n",
        "\n",
        "        # numerator, one for each class with this word\n",
        "        for ic,_ in enumerate(classes): # for each class\n",
        "          num = 0.0\n",
        "          for i2,w2 in enumerate(uniques): # get second word\n",
        "            if [w1,w2] in bigrams: # if it is a valid bigram\n",
        "              b = bigrams.index([w1,w2]) # index of corresponding bigram\n",
        "              num += n[i2][i1]*pE[ic,b]\n",
        "          # compute probability\n",
        "          if num > 0:\n",
        "            p2[ic,i1] = num/den\n",
        "          else: p2[ic,i1] = 0.0\n",
        "\n",
        "      # compute p\n",
        "      p = np.zeros((len(uniques),len(uniques)))\n",
        "      for w1 in range(len(uniques)):\n",
        "        for w2 in range(len(uniques)):\n",
        "          sum = 0.0\n",
        "          for c in range(n_classes):\n",
        "            sum += p1[w2,c]*p2[c,w1]\n",
        "          p[w2,w1] = sum\n",
        "\n",
        "      # assign pairs with zero probability 1/n_distinct_bigrams probability to avoid taking the log of 0 values\n",
        "      Nb = np.count_nonzero(np.unique(bigrams))\n",
        "      p[p == 0.0] = 1/Nb\n",
        "\n",
        "      # compute indices\n",
        "      ll = logLikelihood(n,p)\n",
        "      pp = perplexity(ll,Nb)\n",
        "      logLs.append(ll)\n",
        "      perpls.append(pp)\n",
        "      p12.append([p1,p2])\n",
        "    \n",
        "    # append to sample-level results\n",
        "    logs_size.append(logLs)\n",
        "    perpl_size.append(perpls)\n",
        "    ps_size.append(p12)\n",
        "\n",
        "  print('')\n",
        "  # append to global list\n",
        "  group_logls.append(logs_size)\n",
        "  group_perplexities.append(perpl_size)\n",
        "  group_ps.append(ps_size) # #4 groups -> #5 samples -> #5 iterations -> #2 matrices (p1,p2)\n",
        "  # e.g. group_ps[3][0][4][0] is p1 at 5th iteration of sample 1 of size 500\n",
        "  # e.g. group_ps[3][0][4][1] is p2 at 5th iteration of sample 1 of size 500"
      ]
    },
    {
      "cell_type": "code",
      "execution_count": 14,
      "metadata": {
        "colab": {
          "base_uri": "https://localhost:8080/",
          "height": 730
        },
        "id": "o8BFDgW7CQ91",
        "outputId": "5fa691c7-acfc-459e-dbdc-ac66f58def1c"
      },
      "outputs": [
        {
          "output_type": "display_data",
          "data": {
            "image/png": "[encoded data removed]",
            "text/plain": [
              "<Figure size 864x864 with 4 Axes>"
            ]
          },
          "metadata": {
            "needs_background": "light"
          }
        }
      ],
      "source": [
        "# plot indices against iterations\n",
        "# for each size, take average value of metrics at each iteration\n",
        "# plot has iteration on x axis, metrics on y axis. one plot for each size\n",
        "avg_logs_EM = []\n",
        "avg_perp_EM = []\n",
        "for g in range(len(groups)):\n",
        "  group_ll = []\n",
        "  group_pp = []\n",
        "  for iter in range(n_iters):\n",
        "    group_ll.append(np.mean(np.array(group_logls[g])[:,iter]))\n",
        "    group_pp.append(np.mean(np.array(group_perplexities[g])[:,iter]))\n",
        "  avg_logs_EM.append(group_ll)\n",
        "  avg_perp_EM.append(group_pp)\n",
        "\n",
        "fig = plt.figure(figsize=(12,12))\n",
        "plt.subplot(2,2,1)\n",
        "for i in range(len(avg_logs_EM)):\n",
        "  plt.plot(np.arange(n_iters), avg_logs_EM[i], label='Size {}'.format(sizes[i]))\n",
        "plt.title('Evolution of Log-Likelihood by Iteration')\n",
        "plt.xlabel('Iteration')\n",
        "plt.ylabel('Average Log-Likelihood')\n",
        "plt.xticks([0,1,2,3,4],labels=[1,2,3,4,5])\n",
        "plt.legend()\n",
        "plt.grid()\n",
        "\n",
        "plt.subplot(2,2,2)\n",
        "for i in range(len(avg_perp_EM)):\n",
        "  plt.plot(np.arange(n_iters), avg_perp_EM[i], label='Size {}'.format(sizes[i]))\n",
        "plt.title('Evolution of Perplexity by Iteration')\n",
        "plt.xlabel('Iteration')\n",
        "plt.ylabel('Average Perplexity')\n",
        "plt.xticks([0,1,2,3,4],labels=[1,2,3,4,5])\n",
        "plt.legend()\n",
        "plt.grid()\n",
        "\n",
        "# plot indices against size\n",
        "# for each size group, take average value of n-th iterations (the last)\n",
        "# plot has size on x axis, metrics on y axis.\n",
        "size_ll = []\n",
        "size_pp = []\n",
        "for g in range(len(groups)):\n",
        "  size_ll.append(np.mean(np.array(group_logls[g])[:,-1]))\n",
        "  size_pp.append(np.mean(np.array(group_perplexities[g])[:,-1]))\n",
        "\n",
        "plt.subplot(2,2,3)\n",
        "plt.plot(np.arange(len(groups)), size_ll)\n",
        "plt.xticks(np.arange(len(groups)),labels=[100,200,300,500])\n",
        "plt.title('Evolution of Log-Likelihood by Sample Size')\n",
        "plt.xlabel('Size')\n",
        "plt.ylabel('Average Log-Likelihood')\n",
        "plt.grid()\n",
        "\n",
        "plt.subplot(2,2,4)\n",
        "plt.plot(np.arange(len(groups)), size_pp)\n",
        "plt.xticks(np.arange(len(groups)),labels=[100,200,300,500])\n",
        "plt.title('Evolution of Perplexity by Sample Size')\n",
        "plt.xlabel('Size')\n",
        "plt.ylabel('Average Perplexity')\n",
        "plt.grid()\n",
        "plt.show()"
      ]
    },
    {
      "cell_type": "markdown",
      "metadata": {
        "id": "DbahnUWXSlH2"
      },
      "source": [
        "Random initialisation of P1 and P2 matrices with different numbers of classes"
      ]
    },
    {
      "cell_type": "code",
      "execution_count": 15,
      "metadata": {
        "id": "yj2WruEGZI-j"
      },
      "outputs": [],
      "source": [
        "# try classes [2,4,6,12]\n",
        "# I initialise p1, p2 for each subsample and record initial values of log-likelihood and perplexity\n",
        "\n",
        "number_of_classes = [2,4,6,12]\n",
        "class_p1 = []\n",
        "class_p2 = []\n",
        "class_ls = []\n",
        "class_ps = []\n",
        "\n",
        "for n_classes in number_of_classes:\n",
        "\n",
        "  # initialise p1 and p2 with n random classes\n",
        "  p1_r, p2_r, p_r = [], [], []\n",
        "  logs_r, perplexities_r = [], []\n",
        "\n",
        "  for g in range(len(groups)): # for each size\n",
        "\n",
        "    p1s = [] # p(w|c)\n",
        "    p2s = [] # p(c|w)\n",
        "    ps = [] # p(w2|w1)\n",
        "    lls = [] # log-likelihoods\n",
        "    pps = [] # perplexities\n",
        "    \n",
        "    for s in range(n_samples): # for all samples of that size\n",
        "      \n",
        "      subsample_ = groups[g][s]\n",
        "      bigrams = groups_bigrams[g][s]\n",
        "      n = groups_count_bigrams[g][s]\n",
        "      temp = np.array(subsample_).reshape(len(subsample_),2)\n",
        "      subsample = temp[:,0] # sampled sequence of words\n",
        "      uniques = list(np.unique(subsample)) # list of unique words\n",
        "\n",
        "      bigrams = groups_bigrams[g][s]\n",
        "\n",
        "      p1 = np.zeros((len(uniques),n_classes))\n",
        "      p2 = np.zeros((n_classes,len(uniques)))\n",
        "\n",
        "      # random uniform\n",
        "      for i in range(n_classes): # p1\n",
        "        row = random.sample(range(0, 1000), len(uniques))\n",
        "        tot = np.sum(row)\n",
        "        p1[:,i] = row/tot\n",
        "\n",
        "      for i in range(len(uniques)): # p2\n",
        "        row = random.sample(range(0, 1000), n_classes)\n",
        "        tot = np.sum(row)\n",
        "        p2[:,i] = row/tot\n",
        "\n",
        "      # append\n",
        "      p1s.append(p1)\n",
        "      p2s.append(p2)\n",
        "\n",
        "      # compute p\n",
        "      p = np.zeros((len(uniques),len(uniques)))\n",
        "      for w1 in range(len(uniques)):\n",
        "        for w2 in range(len(uniques)):\n",
        "          sum = 0.0\n",
        "          for c in range(n_classes):\n",
        "            sum += p1[w2,c]*p2[c,w1]\n",
        "          p[w2,w1] = sum\n",
        "\n",
        "      # assign pairs with zero probability 1/n_distinct_bigrams probability to avoid taking the log of 0 values\n",
        "      Nb = np.count_nonzero(np.unique(bigrams))\n",
        "      p[p == 0.0] = 1/Nb\n",
        "\n",
        "      # append\n",
        "      ps.append(p)\n",
        "\n",
        "      # compute initial indices\n",
        "      ll = logLikelihood(n,p)\n",
        "      pp = perplexity(ll,Nb)\n",
        "      lls.append(ll)\n",
        "      pps.append(pp)\n",
        "    \n",
        "    # append to global list\n",
        "    p1_r.append(p1s)\n",
        "    p2_r.append(p2s)\n",
        "    p_r.append(ps)\n",
        "    logs_r.append(lls)\n",
        "    perplexities_r.append(pps)\n",
        "  \n",
        "  # append to class list\n",
        "  class_p1.append(p1_r)\n",
        "  class_p2.append(p2_r)\n",
        "  class_ls.append(logs_r)\n",
        "  class_ps.append(perplexities_r)"
      ]
    },
    {
      "cell_type": "code",
      "execution_count": 16,
      "metadata": {
        "id": "boiv1TWRZI-m",
        "colab": {
          "base_uri": "https://localhost:8080/"
        },
        "outputId": "cd7d6749-924f-4e15-90e3-097b8ade767e"
      },
      "outputs": [
        {
          "output_type": "stream",
          "name": "stdout",
          "text": [
            "Enter model with 2 classes\n",
            "Enter groups of size 100\n"
          ]
        },
        {
          "output_type": "stream",
          "name": "stderr",
          "text": [
            "100%|██████████| 5/5 [00:03<00:00,  1.47it/s]\n"
          ]
        },
        {
          "output_type": "stream",
          "name": "stdout",
          "text": [
            "Enter groups of size 200\n"
          ]
        },
        {
          "output_type": "stream",
          "name": "stderr",
          "text": [
            "100%|██████████| 5/5 [00:22<00:00,  4.45s/it]\n"
          ]
        },
        {
          "output_type": "stream",
          "name": "stdout",
          "text": [
            "Enter groups of size 300\n"
          ]
        },
        {
          "output_type": "stream",
          "name": "stderr",
          "text": [
            "100%|██████████| 5/5 [00:56<00:00, 11.23s/it]\n"
          ]
        },
        {
          "output_type": "stream",
          "name": "stdout",
          "text": [
            "Enter groups of size 500\n"
          ]
        },
        {
          "output_type": "stream",
          "name": "stderr",
          "text": [
            "100%|██████████| 5/5 [03:03<00:00, 36.77s/it]\n"
          ]
        },
        {
          "output_type": "stream",
          "name": "stdout",
          "text": [
            "\n",
            "Enter model with 4 classes\n",
            "Enter groups of size 100\n"
          ]
        },
        {
          "output_type": "stream",
          "name": "stderr",
          "text": [
            "100%|██████████| 5/5 [00:06<00:00,  1.22s/it]\n"
          ]
        },
        {
          "output_type": "stream",
          "name": "stdout",
          "text": [
            "Enter groups of size 200\n"
          ]
        },
        {
          "output_type": "stream",
          "name": "stderr",
          "text": [
            "100%|██████████| 5/5 [00:41<00:00,  8.22s/it]\n"
          ]
        },
        {
          "output_type": "stream",
          "name": "stdout",
          "text": [
            "Enter groups of size 300\n"
          ]
        },
        {
          "output_type": "stream",
          "name": "stderr",
          "text": [
            "100%|██████████| 5/5 [01:43<00:00, 20.75s/it]\n"
          ]
        },
        {
          "output_type": "stream",
          "name": "stdout",
          "text": [
            "Enter groups of size 500\n"
          ]
        },
        {
          "output_type": "stream",
          "name": "stderr",
          "text": [
            "100%|██████████| 5/5 [05:40<00:00, 68.17s/it]\n"
          ]
        },
        {
          "output_type": "stream",
          "name": "stdout",
          "text": [
            "\n",
            "Enter model with 6 classes\n",
            "Enter groups of size 100\n"
          ]
        },
        {
          "output_type": "stream",
          "name": "stderr",
          "text": [
            "100%|██████████| 5/5 [00:08<00:00,  1.77s/it]\n"
          ]
        },
        {
          "output_type": "stream",
          "name": "stdout",
          "text": [
            "Enter groups of size 200\n"
          ]
        },
        {
          "output_type": "stream",
          "name": "stderr",
          "text": [
            "100%|██████████| 5/5 [00:59<00:00, 11.91s/it]\n"
          ]
        },
        {
          "output_type": "stream",
          "name": "stdout",
          "text": [
            "Enter groups of size 300\n"
          ]
        },
        {
          "output_type": "stream",
          "name": "stderr",
          "text": [
            "100%|██████████| 5/5 [02:30<00:00, 30.06s/it]\n"
          ]
        },
        {
          "output_type": "stream",
          "name": "stdout",
          "text": [
            "Enter groups of size 500\n"
          ]
        },
        {
          "output_type": "stream",
          "name": "stderr",
          "text": [
            "100%|██████████| 5/5 [08:15<00:00, 99.09s/it] \n"
          ]
        },
        {
          "output_type": "stream",
          "name": "stdout",
          "text": [
            "\n",
            "Enter model with 12 classes\n",
            "Enter groups of size 100\n"
          ]
        },
        {
          "output_type": "stream",
          "name": "stderr",
          "text": [
            "100%|██████████| 5/5 [00:17<00:00,  3.42s/it]\n"
          ]
        },
        {
          "output_type": "stream",
          "name": "stdout",
          "text": [
            "Enter groups of size 200\n"
          ]
        },
        {
          "output_type": "stream",
          "name": "stderr",
          "text": [
            "100%|██████████| 5/5 [01:55<00:00, 23.12s/it]\n"
          ]
        },
        {
          "output_type": "stream",
          "name": "stdout",
          "text": [
            "Enter groups of size 300\n"
          ]
        },
        {
          "output_type": "stream",
          "name": "stderr",
          "text": [
            "100%|██████████| 5/5 [04:52<00:00, 58.58s/it]\n"
          ]
        },
        {
          "output_type": "stream",
          "name": "stdout",
          "text": [
            "Enter groups of size 500\n"
          ]
        },
        {
          "output_type": "stream",
          "name": "stderr",
          "text": [
            "100%|██████████| 5/5 [16:02<00:00, 192.59s/it]"
          ]
        },
        {
          "output_type": "stream",
          "name": "stdout",
          "text": [
            "\n"
          ]
        },
        {
          "output_type": "stream",
          "name": "stderr",
          "text": [
            "\n"
          ]
        }
      ],
      "source": [
        "# EM algorithm\n",
        "\n",
        "group_class_ls = []\n",
        "group_class_ps = []\n",
        "group_class_transP = []\n",
        "\n",
        "for cs,n_classes in enumerate(number_of_classes): # select number of classes\n",
        "\n",
        "  print('Enter model with {} classes'.format(n_classes))\n",
        "\n",
        "  # for each sample text, save result of 5 EM iterations for loglikelihood and perplexity\n",
        "  rgroup_logls = []\n",
        "  rgroup_perplexities = []\n",
        "  rgroup_ps = []\n",
        "  n_iters = 7\n",
        "\n",
        "  for g in range(len(groups)): # select size\n",
        "    \n",
        "    print('Enter groups of size {}'.format(sizes[g]))\n",
        "\n",
        "    logs_size = []\n",
        "    perpl_size = []\n",
        "    p_size = []\n",
        "\n",
        "    for s in tqdm(range(n_samples)): # select sample\n",
        "\n",
        "      #print('Start iterations for sample {}'.format(s))\n",
        "\n",
        "      logLs = []\n",
        "      perpls = []\n",
        "      ps = []\n",
        "\n",
        "      # format sample\n",
        "      subsample_ = groups[g][s] # select sample text\n",
        "      word_pos = groups_word_pos[g][s] # select associated word_pos\n",
        "      n = groups_count_bigrams[g][s] # select associated bigram counts\n",
        "      bigrams = groups_bigrams[g][s] # select associated bigram list\n",
        "      p1 = class_p1[cs][g][s] # select associated initial p1\n",
        "      p2 = class_p2[cs][g][s] # select associated initial p2\n",
        "\n",
        "      temp = np.array(subsample_).reshape(len(subsample_),2)\n",
        "      subsample = temp[:,0] # sampled sequence of words\n",
        "      uniques = list(np.unique(subsample)) # list of unique words\n",
        "\n",
        "      pE = np.zeros((n_classes,len(bigrams)))\n",
        "\n",
        "      # iterate EM algorithm for n_iters times\n",
        "      for iter in range(n_iters): # select iter\n",
        "\n",
        "        # perform E step (eq.2)\n",
        "        for ib,b in enumerate(bigrams): # get this bigram from sampled text    \n",
        "            word1 = b[0] # word w1\n",
        "            word2 = b[1] # word w2\n",
        "            w1 = uniques.index(word1) # index of w1 in uniques\n",
        "            w2 = uniques.index(word2) # index of w2 in uniques\n",
        "\n",
        "            # denominator, same for all classes with this bigram\n",
        "            den = 0.0\n",
        "            for ic_ in range(n_classes): # loop over classes\n",
        "              den += p1[w2,ic_]*p2[ic_,w1] # add to den\n",
        "\n",
        "            # numerator, one for each class with this bigram\n",
        "            for ic in range(n_classes): # get this class\n",
        "              num = p1[w2,ic]*p2[ic,w1]\n",
        "              if num > 0: # avoid dividing by 0. if num > 0, then den > 0\n",
        "                pE[ic,ib] = num/den\n",
        "              else: pE[ic,ib] = 0.0\n",
        "            \n",
        "        # perform M step\n",
        "\n",
        "        # update p1 (eq.4)\n",
        "        for ic in range(n_classes): # loop over classes\n",
        "\n",
        "          # denominator, same for all words in this class\n",
        "          den = 0.0 \n",
        "          for i1,w1 in enumerate(uniques): # get first word\n",
        "            for i2,w2 in enumerate(uniques): # get second word\n",
        "              if [w1,w2] in bigrams: # if it is a valid bigram\n",
        "                b = bigrams.index([w1,w2]) # take index of corresponding bigram\n",
        "                den += n[i2][i1]*pE[ic,b] # add to denominator\n",
        "\n",
        "          # numerator, one for each word in this class\n",
        "          for i2,w2 in enumerate(uniques): # get this word\n",
        "            num = 0.0\n",
        "            for i1,w1 in enumerate(uniques): # get second word\n",
        "              if [w1,w2] in bigrams: # if it is a valid bigram\n",
        "                b = bigrams.index([w1,w2]) # take index of corresponding bigram\n",
        "                num += n[i2][i1]*pE[ic,b] # add to numerator\n",
        "            # compute probability\n",
        "            if num > 0:\n",
        "              p1[i2,ic] = num/den\n",
        "            else: p1[i2,ic] = 0.0\n",
        "\n",
        "        # update p2 (eq.3)\n",
        "        for i1,w1 in enumerate(uniques): # get this word\n",
        "        \n",
        "          # denominator, same for all classes with this word\n",
        "          den = 0.0\n",
        "          for i2,w2 in enumerate(uniques): # get second word\n",
        "            if [w1,w2] in bigrams: # if it is a valid bigram\n",
        "              b = bigrams.index([w1,w2]) # index of corresponding bigram\n",
        "              for ic_ in range(n_classes): # for each class\n",
        "                den += n[i2][i1]*pE[ic_,b] # add to den\n",
        "\n",
        "          # numerator, one for each class with this word\n",
        "          for ic in range(n_classes): # for each class\n",
        "            num = 0.0\n",
        "            for i2,w2 in enumerate(uniques): # get second word\n",
        "              if [w1,w2] in bigrams: # if it is a valid bigram\n",
        "                b = bigrams.index([w1,w2]) # index of corresponding bigram\n",
        "                num += n[i2][i1]*pE[ic,b]\n",
        "            # compute probability\n",
        "            if num > 0:\n",
        "              p2[ic,i1] = num/den\n",
        "            else: p2[ic,i1] = 0.0\n",
        "\n",
        "        # compute p\n",
        "        p = np.zeros((len(uniques),len(uniques)))\n",
        "        for w1 in range(len(uniques)):\n",
        "          for w2 in range(len(uniques)):\n",
        "            sum = 0.0\n",
        "            for c in range(n_classes):\n",
        "              sum += p1[w2,c]*p2[c,w1]\n",
        "            p[w2,w1] = sum\n",
        "\n",
        "        # assign pairs with zero probability 1/n_distinct_bigrams probability to avoid taking the log of 0 values\n",
        "        Nb = np.count_nonzero(np.unique(bigrams))\n",
        "        p[p == 0.0] = 1/Nb\n",
        "\n",
        "        # compute indices\n",
        "        ll = logLikelihood(n,p)\n",
        "        pp = perplexity(ll,Nb)\n",
        "        logLs.append(ll)\n",
        "        perpls.append(pp)\n",
        "        ps.append([p1,p2])\n",
        "      \n",
        "      # append to sample-level results\n",
        "      logs_size.append(logLs)\n",
        "      perpl_size.append(perpls)\n",
        "      p_size.append(ps)\n",
        "\n",
        "    # append to global list\n",
        "    rgroup_logls.append(logs_size)\n",
        "    rgroup_perplexities.append(perpl_size)\n",
        "    rgroup_ps.append(p_size)\n",
        "\n",
        "  # append to class list\n",
        "  group_class_ls.append(rgroup_logls)\n",
        "  group_class_ps.append(rgroup_perplexities)\n",
        "  group_class_transP.append(rgroup_ps)\n",
        "  print(\"\")"
      ]
    },
    {
      "cell_type": "code",
      "execution_count": 17,
      "metadata": {
        "id": "mNk2QLNDWtUR"
      },
      "outputs": [],
      "source": [
        "# classes, group, sample, iters\n",
        "\n",
        "# perplexity\n",
        "pps = []\n",
        "for sz,size in enumerate(sizes): # [100,200,300,500]\n",
        "  ss = []\n",
        "  for cl,cls in enumerate(number_of_classes): # [1,2,4,6,12]\n",
        "    ss.append(np.mean(np.array(group_class_ps[cl][sz])[:,-1]))\n",
        "  pps.append(ss)\n",
        "\n",
        "# log-likelihood\n",
        "lls = []\n",
        "for sz,size in enumerate(sizes): # [100,200,300,500]\n",
        "  ss = []\n",
        "  for cl,cls in enumerate(number_of_classes): # [1,2,4,6,12]\n",
        "    ss.append(np.mean(np.array(group_class_ls[cl][sz])[:,-1]))\n",
        "  lls.append(ss)"
      ]
    },
    {
      "cell_type": "code",
      "execution_count": 27,
      "metadata": {
        "id": "0XK6ysP3JyeX",
        "colab": {
          "base_uri": "https://localhost:8080/",
          "height": 621
        },
        "outputId": "95613399-18f6-46a7-96d7-36ce3e7d525d"
      },
      "outputs": [
        {
          "output_type": "display_data",
          "data": {
            "image/png": "[encoded data removed]",
            "text/plain": [
              "<Figure size 864x720 with 4 Axes>"
            ]
          },
          "metadata": {
            "needs_background": "light"
          }
        }
      ],
      "source": [
        "x = np.arange(len(number_of_classes))\n",
        "\n",
        "fig = plt.figure(figsize=(12,10))\n",
        "\n",
        "for sz in range(len(sizes)):\n",
        "  plt.subplot(2,2,sz+1)\n",
        "  plt.plot(x, pps[sz])\n",
        "  plt.xticks(x, labels=number_of_classes)\n",
        "  plt.title('Sample size {}'.format(sizes[sz]))\n",
        "  plt.ylabel('Average Perplexity')\n",
        "  plt.xlabel('Number of classes')\n",
        "  plt.grid()"
      ]
    },
    {
      "cell_type": "code",
      "execution_count": 26,
      "metadata": {
        "id": "TBKUW-M078Be",
        "colab": {
          "base_uri": "https://localhost:8080/",
          "height": 621
        },
        "outputId": "d4702dae-9276-48f7-fa2b-90ad176aa4df"
      },
      "outputs": [
        {
          "output_type": "display_data",
          "data": {
            "image/png": "[encoded data removed]",
            "text/plain": [
              "<Figure size 864x720 with 4 Axes>"
            ]
          },
          "metadata": {
            "needs_background": "light"
          }
        }
      ],
      "source": [
        "x = np.arange(len(number_of_classes))\n",
        "\n",
        "fig = plt.figure(figsize=(12,10))\n",
        "\n",
        "for sz in range(len(sizes)):\n",
        "  plt.subplot(2,2,sz+1)\n",
        "  plt.plot(x, lls[sz])\n",
        "  plt.xticks(x, labels=number_of_classes)\n",
        "  plt.title('Sample size {}'.format(sizes[sz]))\n",
        "  plt.ylabel('Average Log-Likelihood')\n",
        "  plt.xlabel('Number of classes')\n",
        "  plt.grid()"
      ]
    },
    {
      "cell_type": "code",
      "execution_count": 25,
      "metadata": {
        "id": "g4MReFChOt_O",
        "colab": {
          "base_uri": "https://localhost:8080/",
          "height": 621
        },
        "outputId": "a5ef14a3-cf5f-4f17-c32d-f4028bf2991b"
      },
      "outputs": [
        {
          "output_type": "display_data",
          "data": {
            "image/png": "[encoded data removed]",
            "text/plain": [
              "<Figure size 864x720 with 4 Axes>"
            ]
          },
          "metadata": {
            "needs_background": "light"
          }
        }
      ],
      "source": [
        "# number of iterations\n",
        "class_enum = []\n",
        "for cl in range(len(number_of_classes)):\n",
        "  class_sizes = []\n",
        "  for sz in range(len(sizes)):\n",
        "    size = []\n",
        "    for iter in range(n_iters):\n",
        "      size.append(np.mean(np.array(group_class_ps[cl][sz])[:,iter]))\n",
        "    class_sizes.append(size)\n",
        "  class_enum.append(class_sizes)\n",
        "  \n",
        "fig = plt.figure(figsize=(12,10))\n",
        "for cl in range(len(number_of_classes)):\n",
        "  plt.subplot(2,2,cl+1)\n",
        "  for sz in range(len(sizes)):\n",
        "    plt.plot(range(1,n_iters+1), class_enum[cl][sz], label='Size {}'.format(sizes[sz]))\n",
        "  plt.xticks(range(1,n_iters+1))\n",
        "  plt.title('{}-class model'.format(number_of_classes[cl]))\n",
        "  plt.xlabel('Iteration')\n",
        "  if cl==0:\n",
        "    plt.ylabel('Average Perplexity')\n",
        "  plt.legend()\n",
        "  plt.grid()"
      ]
    },
    {
      "cell_type": "code",
      "execution_count": 28,
      "metadata": {
        "id": "s0_CSe9kW3rW",
        "colab": {
          "base_uri": "https://localhost:8080/",
          "height": 621
        },
        "outputId": "775d6526-4de2-4343-8048-894205706555"
      },
      "outputs": [
        {
          "output_type": "display_data",
          "data": {
            "image/png": "[encoded data removed]",
            "text/plain": [
              "<Figure size 864x720 with 4 Axes>"
            ]
          },
          "metadata": {
            "needs_background": "light"
          }
        }
      ],
      "source": [
        "# number of iterations\n",
        "class_enum = []\n",
        "for cl in range(len(number_of_classes)):\n",
        "  class_sizes = []\n",
        "  for sz in range(len(sizes)):\n",
        "    size = []\n",
        "    for iter in range(n_iters):\n",
        "      size.append(np.mean(np.array(group_class_ls[cl][sz])[:,iter]))\n",
        "    class_sizes.append(size)\n",
        "  class_enum.append(class_sizes)\n",
        "  \n",
        "fig = plt.figure(figsize=(12,10))\n",
        "for cl in range(len(number_of_classes)):\n",
        "  plt.subplot(2,2,cl+1)\n",
        "  for sz in range(len(sizes)):\n",
        "    plt.plot(range(1,n_iters+1), class_enum[cl][sz], label='Size {}'.format(sizes[sz]))\n",
        "  plt.xticks(range(1,n_iters+1))\n",
        "  plt.title('{}-class model'.format(number_of_classes[cl]))\n",
        "  plt.xlabel('Iteration')\n",
        "  if cl==0:\n",
        "    plt.ylabel('Average Log-Likelihood')\n",
        "  plt.legend()\n",
        "  plt.grid()"
      ]
    },
    {
      "cell_type": "markdown",
      "metadata": {
        "id": "M_Ak0sqWPfdN"
      },
      "source": [
        "Text generation"
      ]
    },
    {
      "cell_type": "code",
      "execution_count": 29,
      "metadata": {
        "id": "LJTIPVafPaNg"
      },
      "outputs": [],
      "source": [
        "# ALGORITHMS with p\n",
        "# generate class first from p2, then word from p1 using newly generated class\n",
        "# classes are ['ADJP', 'ADVP', 'NP', 'PP', 'PUNCT', 'VP']\n",
        "\n",
        "# next word generation\n",
        "def new_word(t, words, prev_word, p, k, mode):\n",
        "  \n",
        "  prev_word_ix = words.index(prev_word)\n",
        "  weights = p[:,prev_word_ix] # generate from p, p(w2|w1) \n",
        "  sum_of_weights = np.sum(weights)\n",
        "  if sum_of_weights == 0.0:\n",
        "    weights = np.zeros(p.shape[0]) + 1/p.shape[0]\n",
        "  \n",
        "  # indices of top k word choices: if available choices < k, add some random choices\n",
        "  if mode == 'top-k':\n",
        "    pos_count = np.count_nonzero(weights > 0)\n",
        "    if pos_count >= k:\n",
        "      choices_ix = np.argsort(weights)[-k:]\n",
        "    elif pos_count != 0 and pos_count < k: \n",
        "      add_w = list(random.choices(range(len(words), k=k-pos_count)))\n",
        "      choices_ix = list(np.argsort(weights)[-pos_count:]) + add_w\n",
        "    else: choices_ix = random.choices(range(len(words)), k=k)\n",
        "\n",
        "    print('#{}. Input 0 to stop predicting. Otherwise, pick a word.'.format(t+1))\n",
        "    print('1. {}, 2. {}, 3. {}, 4. {}, 5. {}'.format(\n",
        "      words[choices_ix[4]], words[choices_ix[3]], words[choices_ix[2]],\n",
        "      words[choices_ix[1]], words[choices_ix[0]]))\n",
        "    \n",
        "    i = int(input()) # let the user choose\n",
        "    if i == 0: return 'exit'\n",
        "    else: return words[choices_ix[k-i]]\n",
        "  \n",
        "  # k random weighted options\n",
        "  elif mode == 'random':\n",
        "    choices_ix = []\n",
        "    nonzero_els = np.count_nonzero(weights!=0)\n",
        "    rest = 0\n",
        "    k_ = k\n",
        "    if nonzero_els < k:\n",
        "      rest = k - nonzero_els\n",
        "      k_ = nonzero_els\n",
        "    choices_ix = list(np.random.choice(words, size=k_, p=weights/sum_of_weights, replace=False))\n",
        "    if rest > 0:\n",
        "      for r in range(rest):\n",
        "        choices_ix += list(np.random.choice(words, size=1, p=weights/sum_of_weights, replace=True))\n",
        "    \n",
        "    print('#{}. Input 0 to stop predicting. Otherwise, pick a word.'.format(t+1))\n",
        "    print('1. {}, 2. {}, 3. {}, 4. {}, 5. {}'.format(\n",
        "      choices_ix[4], choices_ix[3], choices_ix[2],\n",
        "      choices_ix[1], choices_ix[0]))\n",
        "    \n",
        "    i = int(input()) # let the user choose\n",
        "    if i == 0: return 'exit'\n",
        "    else: return choices_ix[k-i]"
      ]
    },
    {
      "cell_type": "code",
      "execution_count": 30,
      "metadata": {
        "id": "4PDFA5xn8xGS"
      },
      "outputs": [],
      "source": [
        "# ALGORITHMS with p1 and p2\n",
        "# generate class first from p2, then word from p1 using newly generated class\n",
        "# classes are ['ADJP', 'ADVP', 'NP', 'PP', 'PUNCT', 'VP']\n",
        "\n",
        "# this state generation\n",
        "def new_state(t, last_word, words, states, p2, mode):\n",
        "  \n",
        "  i = words.index(last_word)\n",
        "  weights = p2[:,i] # p(c|w)\n",
        "  sum_of_weights = np.sum(weights)\n",
        "  \n",
        "  # print all 6 classes in weighted order\n",
        "  if mode == 'manual':\n",
        "    choices_ix = list(np.argsort(weights))\n",
        "\n",
        "    print('#{}. Input 0 to stop predicting. Otherwise, pick a category:'.format(t+1))\n",
        "    print('1. {}, 2. {}, 3. {}, 4. {}, 5. {}, 6. {}'.format(\n",
        "        states[choices_ix[5]], states[choices_ix[4]], states[choices_ix[3]],\n",
        "        states[choices_ix[2]], states[choices_ix[1]], states[choices_ix[0]]))\n",
        "    \n",
        "    i = int(input()) # let the user choose\n",
        "    \n",
        "    if i==0: return 'exit'\n",
        "    else: return states[choices_ix[6-i]]\n",
        "\n",
        "  # choose one randomly\n",
        "  elif mode == 'random':\n",
        "    choice = list(np.random.choice(states, size=1, p=weights/sum_of_weights, replace=True))\n",
        "\n",
        "    print('#{}. Input 0 to stop predicting. Otherwise, input 1 to get a random class.'.format(t+1))\n",
        "    \n",
        "    i = int(input()) # let the user choose\n",
        "    \n",
        "    if i==0: return 'exit'\n",
        "    else: return choice\n",
        "\n",
        "# next word generation\n",
        "def new_obs(t, states, words, prev_state, p1, k, mode):\n",
        "  \n",
        "  prev_state_ix = states.index(prev_state)\n",
        "  weights = p1[:,prev_state_ix] # generate from p1, p(w|c) \n",
        "  sum_of_weights = np.sum(weights)\n",
        "\n",
        "  \n",
        "  # indices of top k word choices: if available choices < k, add some random choices\n",
        "  if mode == 'top-k':\n",
        "    pos_count = np.count_nonzero(weights > 0)\n",
        "    if pos_count >= k:\n",
        "      choices_ix = np.argsort(weights)[-k:]\n",
        "    elif pos_count != 0 and pos_count < k: \n",
        "      add_w = list(random.choices(range(len(words), k=k-pos_count)))\n",
        "      choices_ix = list(np.argsort(weights)[-pos_count:]) + add_w\n",
        "    else: choices_ix = random.choices(range(len(words)), k=k)\n",
        "\n",
        "    print('#{}. Pick a word.'.format(t+1))\n",
        "    print('1. {}, 2. {}, 3. {}, 4. {}, 5. {}'.format(\n",
        "      words[choices_ix[4]], words[choices_ix[3]], words[choices_ix[2]],\n",
        "      words[choices_ix[1]], words[choices_ix[0]]))\n",
        "    \n",
        "    i = int(input()) # let the user choose\n",
        "    if i == 0: return '.'\n",
        "    else: return words[choices_ix[k-i]]\n",
        "  \n",
        "  # k random weighted options\n",
        "  elif mode == 'random':\n",
        "    choices_ix = []\n",
        "    nonzero_els = np.count_nonzero(weights!=0)\n",
        "    rest = 0\n",
        "    k_ = k\n",
        "    if nonzero_els < k:\n",
        "      rest = k - nonzero_els\n",
        "      k_ = nonzero_els\n",
        "    choices_ix = list(np.random.choice(words, size=k_, p=weights/sum_of_weights, replace=False))\n",
        "    if rest > 0:\n",
        "      for r in range(rest):\n",
        "        choices_ix += list(np.random.choice(words, size=1, p=weights/sum_of_weights, replace=True))\n",
        "    \n",
        "    print('#{}. Pick a word.'.format(t+1))\n",
        "    print('1. {}, 2. {}, 3. {}, 4. {}, 5. {}'.format(\n",
        "      choices_ix[4], choices_ix[3], choices_ix[2],\n",
        "      choices_ix[1], choices_ix[0]))\n",
        "    \n",
        "    i = int(input()) # let the user choose\n",
        "    if i == 0: return '.'\n",
        "    else: return choices_ix[k-i]"
      ]
    },
    {
      "cell_type": "code",
      "execution_count": 31,
      "metadata": {
        "colab": {
          "base_uri": "https://localhost:8080/"
        },
        "id": "RGjXhOpjex55",
        "outputId": "f276ba7f-782c-4b4a-858a-09ace2a02dd8"
      },
      "outputs": [
        {
          "output_type": "stream",
          "name": "stdout",
          "text": [
            "Starting sequence of words:\n",
            "['harry', 'was']\n"
          ]
        }
      ],
      "source": [
        "# set starting observation\n",
        "\n",
        "# input sentence from the user\n",
        "words_seed = nltk.word_tokenize('harry was')\n",
        "print('Starting sequence of words:')\n",
        "print(words_seed)"
      ]
    },
    {
      "cell_type": "code",
      "execution_count": 62,
      "metadata": {
        "id": "HcLwcxAfhR_2"
      },
      "outputs": [],
      "source": [
        "# group_ps[3][0][4][0] is p1 at 5th iteration of sample 1 of size 500\n",
        "# classes ['ADJP', 'ADVP', 'NP', 'PP', 'PUNCT', 'VP']\n",
        "\n",
        "# try running some predictions\n",
        "pred_length = 20\n",
        "new_states = []\n",
        "new_obss = []\n",
        "prev_word = words_seed[-1]\n",
        "p1_ = group_ps[3][0][4][0] # using phrase-based classes\n",
        "p2_ = group_ps[3][0][4][1] # using phrase-based classes\n",
        "#p2_ = group_class_transP[3][3][0][6][1] # using random classes\n",
        "#p1_ = group_class_transP[3][3][0][6][0] # using random classes\n",
        "uniques_ = list(np.unique(np.array(groups[3][0]).reshape(len(groups[3][0]),2)[:,0])) # get list of unique words in this text"
      ]
    },
    {
      "cell_type": "code",
      "execution_count": 64,
      "metadata": {
        "id": "1KpzuEA0VzAH",
        "colab": {
          "base_uri": "https://localhost:8080/"
        },
        "outputId": "b2dbedae-daf0-4036-b104-fc13dd1e6985"
      },
      "outputs": [
        {
          "name": "stdout",
          "output_type": "stream",
          "text": [
            "#2. Input 0 to stop predicting. Otherwise, pick a category:\n",
            "1. VP, 2. PUNCT, 3. PP, 4. NP, 5. ADVP, 6. ADJP\n",
            "1\n",
            "#2. Pick a word.\n",
            "1. a, 2. ambling, 3. bought, 4. ,, 5. us\n",
            "1\n",
            "#3. Input 0 to stop predicting. Otherwise, pick a category:\n",
            "1. NP, 2. VP, 3. PUNCT, 4. PP, 5. ADVP, 6. ADJP\n",
            "1\n",
            "#3. Pick a word.\n",
            "1. ., 2. of, 3. ,, 4. mother, 5. rations\n",
            "1\n",
            "#4. Input 0 to stop predicting. Otherwise, pick a category:\n",
            "1. PUNCT, 2. VP, 3. PP, 4. NP, 5. ADVP, 6. ADJP\n",
            "4\n",
            "#4. Pick a word.\n",
            "1. week, 2. --, 3. car, 4. ley, 5. ,\n",
            "3\n",
            "#5. Input 0 to stop predicting. Otherwise, pick a category:\n",
            "1. NP, 2. VP, 3. PUNCT, 4. PP, 5. ADVP, 6. ADJP\n",
            "1\n",
            "#5. Pick a word.\n",
            "1. made, 2. could, 3. was, 4. garage, 5. 'd\n",
            "4\n",
            "#6. Input 0 to stop predicting. Otherwise, pick a category:\n",
            "1. NP, 2. VP, 3. PUNCT, 4. PP, 5. ADVP, 6. ADJP\n",
            "2\n",
            "#6. Pick a word.\n",
            "1. smiling, 2. somewhere, 3. on, 4. to, 5. .\n",
            "3\n",
            "#7. Input 0 to stop predicting. Otherwise, pick a category:\n",
            "1. PP, 2. VP, 3. PUNCT, 4. NP, 5. ADVP, 6. ADJP\n",
            "4\n",
            "#7. Pick a word.\n",
            "1. ., 2. head, 3. ,, 4. birthdays, 5. dully\n",
            "4\n",
            "#8. Input 0 to stop predicting. Otherwise, pick a category:\n",
            "1. NP, 2. VP, 3. PUNCT, 4. PP, 5. ADVP, 6. ADJP\n",
            "2\n",
            "#8. Pick a word.\n",
            "1. n't, 2. ., 3. for, 4. already, 5. also\n",
            "4\n",
            "#9. Input 0 to stop predicting. Otherwise, pick a category:\n",
            "1. ADVP, 2. VP, 3. PUNCT, 4. PP, 5. NP, 6. ADJP\n",
            "6\n",
            "#9. Pick a word.\n",
            "1. on, 2. rock, 3. grin, 4. beat, 5. socks\n",
            "1\n",
            "#10. Input 0 to stop predicting. Otherwise, pick a category:\n",
            "1. PP, 2. VP, 3. PUNCT, 4. NP, 5. ADVP, 6. ADJP\n",
            "2\n",
            "#10. Pick a word.\n",
            "1. n't, 2. aunt, 3. ., 4. monday, 5. harry\n",
            "3\n",
            "#11. Input 0 to stop predicting. Otherwise, pick a category:\n",
            "1. PUNCT, 2. VP, 3. PP, 4. NP, 5. ADVP, 6. ADJP\n",
            "4\n",
            "#11. Pick a word.\n",
            "1. dully, 2. ., 3. of, 4. --, 5. ,\n",
            "1\n",
            "#12. Input 0 to stop predicting. Otherwise, pick a category:\n",
            "1. ADVP, 2. VP, 3. PUNCT, 4. PP, 5. NP, 6. ADJP\n",
            "3\n",
            "#12. Pick a word.\n",
            "1. clapping, 2. with, 3. and, 4. ``, 5. last\n",
            "1\n",
            "#13. Input 0 to stop predicting. Otherwise, pick a category:\n",
            "1. VP, 2. PUNCT, 3. PP, 4. NP, 5. ADVP, 6. ADJP\n",
            "4\n",
            "#13. Pick a word.\n",
            "1. ,, 2. inside, 3. gentleman, 4. happened, 5. and\n",
            "3\n",
            "#14. Input 0 to stop predicting. Otherwise, pick a category:\n",
            "1. NP, 2. VP, 3. PUNCT, 4. PP, 5. ADVP, 6. ADJP\n",
            "2\n",
            "#14. Pick a word.\n",
            "1. usually, 2. parked, 3. ., 4. uncle, 5. to\n",
            "2\n",
            "#15. Input 0 to stop predicting. Otherwise, pick a category:\n",
            "1. VP, 2. PUNCT, 3. PP, 4. NP, 5. ADVP, 6. ADJP\n",
            "6\n",
            "#15. Pick a word.\n",
            "1. 've, 2. package, 3. place, 4. thing, 5. year\n",
            "2\n",
            "#16. Input 0 to stop predicting. Otherwise, pick a category:\n",
            "1. NP, 2. VP, 3. PUNCT, 4. PP, 5. ADVP, 6. ADJP\n",
            "4\n",
            "#16. Pick a word.\n",
            "1. there, 2. !, 3. the, 4. ,, 5. tonight\n",
            "1\n",
            "#17. Input 0 to stop predicting. Otherwise, pick a category:\n",
            "1. VP, 2. ADVP, 3. PUNCT, 4. PP, 5. NP, 6. ADJP\n",
            "3\n",
            "#17. Pick a word.\n",
            "1. thin, 2. ``, 3. said, 4. and, 5. he\n",
            "4\n",
            "#18. Input 0 to stop predicting. Otherwise, pick a category:\n",
            "1. PUNCT, 2. VP, 3. PP, 4. NP, 5. ADVP, 6. ADJP\n",
            "2\n",
            "#18. Pick a word.\n",
            "1. up, 2. n't, 3. again, 4. ?, 5. .\n",
            "3\n",
            "#19. Input 0 to stop predicting. Otherwise, pick a category:\n",
            "1. ADVP, 2. VP, 3. PUNCT, 4. PP, 5. NP, 6. ADJP\n",
            "0\n"
          ]
        }
      ],
      "source": [
        "# predict using p1 and p2\n",
        "\n",
        "exit = False\n",
        "t = 1\n",
        "while exit == False and t < pred_length: # provide a way to stop predictions at any given point\n",
        "    new_s = new_state(t, prev_word, uniques_, classes, p2_, 'manual')\n",
        "    if new_s == 'exit': \n",
        "      exit = True\n",
        "      break\n",
        "    new_states.append(new_s)\n",
        "    new_o = new_obs(t, classes, uniques_, new_s, p1_, 5, 'random')\n",
        "    new_obss.append(new_o)\n",
        "    prev_state = new_s\n",
        "    prev_word = new_o\n",
        "    t = t+1"
      ]
    },
    {
      "cell_type": "code",
      "execution_count": 65,
      "metadata": {
        "colab": {
          "base_uri": "https://localhost:8080/"
        },
        "id": "t5KiPc0jeKdy",
        "outputId": "5f423523-e9b7-4f35-df5d-1c0db1192366"
      },
      "outputs": [
        {
          "output_type": "stream",
          "name": "stdout",
          "text": [
            "harry was a . car garage on birthdays already on . dully clapping gentleman parked package there and again\n"
          ]
        }
      ],
      "source": [
        "print(' '.join(words_seed + new_obss))"
      ]
    },
    {
      "cell_type": "code",
      "execution_count": 67,
      "metadata": {
        "colab": {
          "base_uri": "https://localhost:8080/"
        },
        "id": "CY015SisODtW",
        "outputId": "404eea61-e31d-4446-c978-47e98e1ddbd4"
      },
      "outputs": [
        {
          "name": "stdout",
          "output_type": "stream",
          "text": [
            "#2. Input 0 to stop predicting. Otherwise, pick a word.\n",
            "1. vernon, 2. iron-gray, 3. out, 4. for, 5. ,\n",
            "3\n",
            "#3. Input 0 to stop predicting. Otherwise, pick a word.\n",
            "1. !, 2. know, 3. said, 4. the, 5. uncle\n",
            "4\n",
            "#4. Input 0 to stop predicting. Otherwise, pick a word.\n",
            "1. and, 2. ., 3. garage, 4. ,, 5. had\n",
            "3\n",
            "#5. Input 0 to stop predicting. Otherwise, pick a word.\n",
            "1. did, 2. head, 3. of, 4. ,, 5. boat\n",
            "4\n",
            "#6. Input 0 to stop predicting. Otherwise, pick a word.\n",
            "1. clapping, 2. i, 3. this, 4. standing, 5. ``\n",
            "4\n",
            "#7. Input 0 to stop predicting. Otherwise, pick a word.\n",
            "1. monday, 2. to, 3. smiling, 4. ., 5. again\n",
            "5\n",
            "#8. Input 0 to stop predicting. Otherwise, pick a word.\n",
            "1. eleven, 2. miserable, 3. and, 4. ., 5. to\n",
            "4\n",
            "#9. Input 0 to stop predicting. Otherwise, pick a word.\n",
            "1. his, 2. clapping, 3. '', 4. a, 5. following\n",
            "4\n",
            "#10. Input 0 to stop predicting. Otherwise, pick a word.\n",
            "1. asked, 2. 's, 3. old, 4. stared, 5. vernon\n",
            "5\n",
            "#11. Input 0 to stop predicting. Otherwise, pick a word.\n",
            "1. and, 2. ,, 3. said, 4. was, 5. suspension\n",
            "4\n",
            "#12. Input 0 to stop predicting. Otherwise, pick a word.\n",
            "1. her, 2. ., 3. also, 4. out, 5. to\n",
            "3\n",
            "#13. Input 0 to stop predicting. Otherwise, pick a word.\n",
            "1. carrying, 2. she, 3. he, 4. ,, 5. fun\n",
            "1\n",
            "#14. Input 0 to stop predicting. Otherwise, pick a word.\n",
            "1. harry, 2. n't, 3. a, 4. up, 5. at\n",
            "1\n",
            "#15. Input 0 to stop predicting. Otherwise, pick a word.\n",
            "1. reminded, 2. to, 3. hanger, 4. 's, 5. toothless\n",
            "4\n",
            "#16. Input 0 to stop predicting. Otherwise, pick a word.\n",
            "1. the, 2. uncle, 3. humberto, 4. aunt, 5. shack\n",
            "4\n",
            "#17. Input 0 to stop predicting. Otherwise, pick a word.\n",
            "1. 's, 2. toothless, 3. was, 4. later, 5. came\n",
            "4\n",
            "#18. Input 0 to stop predicting. Otherwise, pick a word.\n",
            "1. fun, 2. ,, 3. that, 4. it, 5. miserable\n",
            "2\n",
            "#19. Input 0 to stop predicting. Otherwise, pick a word.\n",
            "1. '', 2. was, 3. he, 4. uncle, 5. one\n",
            "4\n",
            "#20. Input 0 to stop predicting. Otherwise, pick a word.\n",
            "1. ., 2. be, 3. forest, 4. ,, 5. had\n",
            "5\n"
          ]
        }
      ],
      "source": [
        "# Predict using p only\n",
        "# compute p\n",
        "n_classes = 6\n",
        "p = np.zeros((len(uniques_),len(uniques_)))\n",
        "for w1 in range(len(uniques_)):\n",
        "  for w2 in range(len(uniques_)):\n",
        "    sum = 0.0\n",
        "    for c in range(n_classes):\n",
        "      sum += p1_[w2,c]*p2_[c,w1]\n",
        "    p[w2,w1] = sum\n",
        "\n",
        "new_words = []\n",
        "exit = False\n",
        "t = 1\n",
        "while exit == False and t < pred_length: # provide a way to stop predictions at any given point\n",
        "  new_w = new_word(t, uniques_, prev_word, p, 5, 'random')\n",
        "  if new_w == 'exit': \n",
        "    exit = True\n",
        "    break\n",
        "  new_words.append(new_w)\n",
        "  prev_word = new_w\n",
        "  t = t+1"
      ]
    },
    {
      "cell_type": "code",
      "execution_count": 68,
      "metadata": {
        "colab": {
          "base_uri": "https://localhost:8080/"
        },
        "id": "p00GQW00V_H-",
        "outputId": "68a692e8-ec69-4d56-acb8-0eee9ff3e7cc"
      },
      "outputs": [
        {
          "output_type": "stream",
          "name": "stdout",
          "text": [
            "harry was out the garage , standing again . a vernon was also carrying harry 's aunt later , uncle had\n"
          ]
        }
      ],
      "source": [
        "print(' '.join(words_seed + new_words))"
      ]
    }
  ],
  "metadata": {
    "colab": {
      "collapsed_sections": [],
      "name": "Aggregate_MM.ipynb",
      "provenance": []
    },
    "kernelspec": {
      "display_name": "Python 3",
      "name": "python3"
    },
    "language_info": {
      "name": "python"
    },
    "accelerator": "GPU"
  },
  "nbformat": 4,
  "nbformat_minor": 0
}